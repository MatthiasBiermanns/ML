{
 "cells": [
  {
   "cell_type": "markdown",
   "id": "b53b8d1d",
   "metadata": {},
   "source": [
    "# GeoGuessr Machine Learning-Ansatz"
   ]
  },
  {
   "cell_type": "markdown",
   "id": "193bd90d",
   "metadata": {},
   "source": [
    "## Zusatzinformationen"
   ]
  },
  {
   "cell_type": "markdown",
   "id": "e44349f1",
   "metadata": {},
   "source": []
  },
  {
   "cell_type": "code",
   "execution_count": null,
   "id": "4c5ca84f",
   "metadata": {},
   "outputs": [],
   "source": []
  },
  {
   "cell_type": "code",
   "execution_count": null,
   "id": "84d6c5bc",
   "metadata": {},
   "outputs": [],
   "source": []
  },
  {
   "cell_type": "markdown",
   "id": "03f566ff",
   "metadata": {},
   "source": [
    "## Code"
   ]
  },
  {
   "cell_type": "markdown",
   "id": "d013c1dd",
   "metadata": {},
   "source": [
    "### Allgemeine Imports"
   ]
  },
  {
   "cell_type": "code",
   "execution_count": 1,
   "id": "326d4da4",
   "metadata": {},
   "outputs": [],
   "source": [
    "%matplotlib inline\n",
    "import matplotlib as plt\n",
    "import numpy as np\n",
    "import pandas as pd"
   ]
  },
  {
   "cell_type": "code",
   "execution_count": null,
   "id": "cbaa7314",
   "metadata": {},
   "outputs": [],
   "source": []
  }
 ],
 "metadata": {
  "kernelspec": {
   "display_name": "Python 3 (ipykernel)",
   "language": "python",
   "name": "python3"
  },
  "language_info": {
   "codemirror_mode": {
    "name": "ipython",
    "version": 3
   },
   "file_extension": ".py",
   "mimetype": "text/x-python",
   "name": "python",
   "nbconvert_exporter": "python",
   "pygments_lexer": "ipython3",
   "version": "3.11.0"
  }
 },
 "nbformat": 4,
 "nbformat_minor": 5
}
