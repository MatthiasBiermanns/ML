{
 "cells": [
  {
   "cell_type": "markdown",
   "id": "b53b8d1d",
   "metadata": {},
   "source": [
    "# GeoGuessr Machine Learning-Ansatz"
   ]
  },
  {
   "cell_type": "markdown",
   "id": "193bd90d",
   "metadata": {},
   "source": [
    "## Zusatzinformationen"
   ]
  },
  {
   "cell_type": "markdown",
   "id": "e44349f1",
   "metadata": {},
   "source": []
  },
  {
   "cell_type": "code",
   "execution_count": null,
   "id": "4c5ca84f",
   "metadata": {},
   "outputs": [],
   "source": []
  },
  {
   "cell_type": "code",
   "execution_count": 21,
   "id": "84d6c5bc",
   "metadata": {},
   "outputs": [],
   "source": [
    "base_dir = 'E:\\Datasets\\Strassenbilder Weltweit\\Dataset_S'"
   ]
  },
  {
   "cell_type": "markdown",
   "id": "03f566ff",
   "metadata": {},
   "source": [
    "## Code"
   ]
  },
  {
   "cell_type": "markdown",
   "id": "d013c1dd",
   "metadata": {},
   "source": [
    "### Imports"
   ]
  },
  {
   "cell_type": "code",
   "execution_count": 1,
   "id": "326d4da4",
   "metadata": {},
   "outputs": [],
   "source": [
    "%matplotlib inline\n",
    "import matplotlib.pyplot as plt\n",
    "import seaborn as sns\n",
    "import numpy as np\n",
    "import pandas as pd\n",
    "\n",
    "# Imports für Deep Learning\n",
    "import keras\n",
    "from keras.models import Sequential\n",
    "from keras.layers import Dense, Conv2D , MaxPool2D , Flatten , Dropout \n",
    "from keras.preprocessing.image import ImageDataGenerator\n",
    "from keras.optimizers import Adam\n",
    "from sklearn.metrics import classification_report,confusion_matrix\n",
    "\n",
    "import tensorflow as tf\n",
    "import cv2\n",
    "import os"
   ]
  },
  {
   "cell_type": "markdown",
   "id": "aa7205c5",
   "metadata": {},
   "source": [
    "### Functions"
   ]
  },
  {
   "cell_type": "code",
   "execution_count": 22,
   "id": "a465ec8c",
   "metadata": {},
   "outputs": [],
   "source": [
    "def get_data(labels, appendix, cnt, img_size):\n",
    "    data = [] \n",
    "    for label in labels: \n",
    "        internCounter = cnt/len(labels);\n",
    "        path = os.path.join(base_dir, label, appendix, 'images')\n",
    "        class_num = labels.index(label)\n",
    "        for img in os.listdir(path):\n",
    "            if(internCounter <= 0):\n",
    "                break;\n",
    "            try:\n",
    "                img_arr = cv2.imread(os.path.join(path, img))[...,::-1] #convert BGR to RGB format\n",
    "                resized_arr = list(cv2.resize(img_arr, (img_size, img_size))) # Reshaping images to preferred size\n",
    "                data.append([resized_arr, class_num])\n",
    "            except Exception as e:\n",
    "                print(e)\n",
    "            internCounter = internCounter -1;\n",
    "    return data"
   ]
  },
  {
   "cell_type": "code",
   "execution_count": 23,
   "id": "0b060ca7",
   "metadata": {},
   "outputs": [],
   "source": [
    "def split_train_val(train, val, img_size):\n",
    "    x_train = []\n",
    "    y_train = []\n",
    "    x_val = []\n",
    "    y_val = []\n",
    "\n",
    "    for feature, label in train:\n",
    "        x_train.append(feature)\n",
    "        y_train.append(label)\n",
    "\n",
    "    for feature, label in val:\n",
    "        x_val.append(feature)\n",
    "        y_val.append(label)\n",
    "\n",
    "    # Normalize the data\n",
    "    x_train = np.array(x_train) / 255\n",
    "    x_val = np.array(x_val) / 255\n",
    "\n",
    "    x_train.reshape(-1, img_size, img_size, 1)\n",
    "    y_train = np.array(y_train)\n",
    "\n",
    "    x_val.reshape(-1, img_size, img_size, 1)\n",
    "    y_val = np.array(y_val)\n",
    "    \n",
    "    return x_train, y_train, x_val, y_val"
   ]
  },
  {
   "cell_type": "code",
   "execution_count": 24,
   "id": "669ceff3",
   "metadata": {},
   "outputs": [],
   "source": [
    "def generate_model(img_size, layers):\n",
    "    model = Sequential()\n",
    "    \n",
    "    for layer in layers:\n",
    "        model.add(layer)\n",
    "    \n",
    "    return model"
   ]
  },
  {
   "cell_type": "code",
   "execution_count": 25,
   "id": "e37c12e8",
   "metadata": {},
   "outputs": [],
   "source": [
    "def train_model(model, learning_rate, x_train, y_train, x_val, y_val, epoch_range):\n",
    "    opt = Adam(learning_rate=learning_rate)\n",
    "    model.compile(optimizer = opt , loss = tf.keras.losses.SparseCategoricalCrossentropy(from_logits=True) , metrics = ['accuracy'])\n",
    "\n",
    "    history = model.fit(x_train,y_train,epochs = epoch_range , validation_data = (x_val, y_val))\n",
    "    \n",
    "    return model, history"
   ]
  },
  {
   "cell_type": "code",
   "execution_count": 70,
   "id": "3b151b67",
   "metadata": {},
   "outputs": [],
   "source": [
    "def plot_history(history, epoch_range):\n",
    "    acc = history.history['accuracy']\n",
    "    val_acc = history.history['val_accuracy']\n",
    "    loss = history.history['loss']\n",
    "    val_loss = history.history['val_loss']\n",
    "\n",
    "    epochs_range = range(epoch_range)\n",
    "\n",
    "    plt.figure(figsize=(15, 15))\n",
    "    plt.subplot(2, 2, 1)\n",
    "    plt.plot(epochs_range, acc, label='Training Accuracy')\n",
    "    plt.plot(epochs_range, val_acc, label='Validation Accuracy')\n",
    "    plt.legend(loc='lower right')\n",
    "    plt.title('Training and Validation Accuracy')\n",
    "\n",
    "    plt.subplot(2, 2, 2)\n",
    "    plt.plot(epochs_range, loss, label='Training Loss')\n",
    "    plt.plot(epochs_range, val_loss, label='Validation Loss')\n",
    "    plt.legend(loc='upper right')\n",
    "    plt.title('Training and Validation Loss')\n",
    "    return plt\n",
    "\n",
    "def plot_history_from_xlsx(epoch_range, acc, val_acc, loss, val_loss):\n",
    "    epochs_range = range(epoch_range)\n",
    "\n",
    "    plt.figure(figsize=(15, 15))\n",
    "    plt.subplot(2, 2, 1)\n",
    "    plt.plot(epochs_range, acc, label='Training Accuracy')\n",
    "    plt.plot(epochs_range, val_acc, label='Validation Accuracy')\n",
    "    plt.legend(loc='lower right')\n",
    "    plt.title('Training and Validation Accuracy')\n",
    "\n",
    "    plt.subplot(2, 2, 2)\n",
    "    plt.plot(epochs_range, loss, label='Training Loss')\n",
    "    plt.plot(epochs_range, val_loss, label='Validation Loss')\n",
    "    plt.legend(loc='upper right')\n",
    "    plt.title('Training and Validation Loss')\n",
    "    return plt\n",
    "    "
   ]
  },
  {
   "cell_type": "code",
   "execution_count": 27,
   "id": "8db8e7d0",
   "metadata": {},
   "outputs": [],
   "source": [
    "def get_metrics(model, labels, x_val, y_val):\n",
    "    predictionOdds = model.predict(x_val)\n",
    "    predictions = []\n",
    "    for pred in predictionOdds:\n",
    "        predictions.append(list(pred).index(max(pred)))\n",
    "\n",
    "    predictions = np.array(predictions)\n",
    "    predictions = predictions.reshape(1,-1)[0]\n",
    "    return classification_report(y_val, predictions, target_names = labels);"
   ]
  },
  {
   "cell_type": "code",
   "execution_count": 63,
   "id": "c6255c9e",
   "metadata": {},
   "outputs": [],
   "source": [
    "def run_neural_network(img_size, processed_images, train_split, labels, epoch_range, learning_rate):\n",
    "    train_images = int(processed_images * train_split)\n",
    "    val_images = int(processed_images - train_images)\n",
    "    \n",
    "    train = get_data(labels, 'database', train_images, img_size)\n",
    "    val = get_data(labels, 'query', val_images, img_size)\n",
    "                  \n",
    "    x_train, y_train, x_val, y_val = split_train_val(train, val, img_size)\n",
    "    \n",
    "    model = generate_model(img_size)\n",
    "    print(model.summary())\n",
    "    \n",
    "    model, history = train_model(model, learning_rate, x_train, y_train, x_val, y_val, epoch_range)\n",
    "    \n",
    "    metrics = get_metrics(model, labels, x_val, y_val)\n",
    "    \n",
    "    return history, metrics"
   ]
  },
  {
   "cell_type": "code",
   "execution_count": 77,
   "id": "c813cbf5",
   "metadata": {},
   "outputs": [],
   "source": [
    "def load_results():\n",
    "    resultPath = os.path.join(base_dir, 'NeuralNetwork_Results.xlsx') \n",
    "    return pd.read_excel(resultPath)"
   ]
  },
  {
   "cell_type": "code",
   "execution_count": 107,
   "id": "ba4c7e40",
   "metadata": {},
   "outputs": [],
   "source": [
    "def show_results(results, rowId, epochs):\n",
    "    result = results.loc[rowId]\n",
    "    \n",
    "    acc = eval(result['Train Acc'])[:epochs]\n",
    "    val_acc = eval(result['Val Acc'])[:epochs]\n",
    "    loss = eval(result['Train Loss'])[:epochs]\n",
    "    val_loss = eval(result['Val Loss'])[:epochs]\n",
    "    \n",
    "    return plot_history_from_xlsx(epochs, acc, val_acc, loss, val_loss)"
   ]
  },
  {
   "cell_type": "code",
   "execution_count": 72,
   "id": "9b0a0b16",
   "metadata": {},
   "outputs": [],
   "source": [
    "def main():\n",
    "    resultPath = os.path.join(base_dir, 'NeuralNetwork_Results.xlsx') \n",
    "    cities = ['berlin', 'kampala', 'melbourne', 'saopaulo', 'sf', 'tokyo']\n",
    "    image_count = [100, 1000, 2000, 5000, 10000, 20000]\n",
    "    resolution = [244, 450, 1000]\n",
    "    learning_rate = [0.000001, 0.00001, 0.0001]\n",
    "    epoch_range = 100;\n",
    "    \n",
    "    results = pd.DataFrame(columns=['ID', 'Netzwerk', 'Anzahl Städte', 'Anzahl Bilder', 'Bildauflösung (px)', 'Lernquote', \n",
    "                                    'Train Acc', 'Val Acc', 'Train Loss', 'Val Loss', 'Metriken'])\n",
    "    results = results.set_index('ID')\n",
    "    rowId = 0;\n",
    "    \n",
    "    for i, lastCity in enumerate(cities):\n",
    "        if(i == 0): \n",
    "            continue;\n",
    "        for images in image_count:\n",
    "            for res in resolution:\n",
    "                # needs res for initialization\n",
    "                network1 = [Conv2D(32,3,padding=\"same\", activation=\"relu\", input_shape=(res, res, 3)), \n",
    "                                MaxPool2D(), Conv2D(32, 3, padding=\"same\", activation=\"relu\"), MaxPool2D(), \n",
    "                                Conv2D(64, 3, padding=\"same\", activation=\"relu\"), MaxPool2D(), Dropout(0.4), Flatten(), \n",
    "                                Dense(128,activation=\"relu\"), Dense(len(cities), activation=\"softmax\")]\n",
    "                network2 = [] # TODO: choose different layers\n",
    "                networks = [network1]\n",
    "                for lr in learning_rate:\n",
    "                    for j, network in enumerate(networks):\n",
    "                        history, metrics = run_neural_network(res, images, 0.8, cities[:i+1], epoch_range, lr)\n",
    "                        \n",
    "                        results.loc[rowId] = ['Netzwerk ' + str(j+1), i+1, images, res, lr, history.history['accuracy'],\n",
    "                                              history.history['val_accuracy'], history.history['loss'],\n",
    "                                              history.history['val_loss'], metrics]\n",
    "                        rowId = rowId + 1\n",
    "    results.to_excel(resultPath)"
   ]
  },
  {
   "cell_type": "code",
   "execution_count": null,
   "id": "1fad04f0",
   "metadata": {},
   "outputs": [],
   "source": []
  },
  {
   "cell_type": "markdown",
   "id": "ad51a53c",
   "metadata": {},
   "source": [
    "### Execute Neural Network"
   ]
  },
  {
   "cell_type": "code",
   "execution_count": null,
   "id": "e9ff84ef",
   "metadata": {
    "scrolled": false
   },
   "outputs": [],
   "source": [
    "main()"
   ]
  },
  {
   "cell_type": "markdown",
   "id": "6605c4c4",
   "metadata": {},
   "source": [
    "### Reload Data"
   ]
  },
  {
   "cell_type": "code",
   "execution_count": 112,
   "id": "c0bd093b",
   "metadata": {},
   "outputs": [
    {
     "data": {
      "text/plain": [
       "<module 'matplotlib.pyplot' from 'C:\\\\Python311\\\\Lib\\\\site-packages\\\\matplotlib\\\\pyplot.py'>"
      ]
     },
     "execution_count": 112,
     "metadata": {},
     "output_type": "execute_result"
    },
    {
     "data": {
      "image/png": "[encoded data removed]",
      "text/plain": [
       "<Figure size 1500x1500 with 2 Axes>"
      ]
     },
     "metadata": {},
     "output_type": "display_data"
    }
   ],
   "source": [
    "res = load_results()\n",
    "\n",
    "show_results(res, 0, 5)"
   ]
  },
  {
   "cell_type": "code",
   "execution_count": null,
   "id": "13a91dc2",
   "metadata": {},
   "outputs": [],
   "source": []
  },
  {
   "cell_type": "code",
   "execution_count": null,
   "id": "9ded5386",
   "metadata": {},
   "outputs": [],
   "source": []
  },
  {
   "cell_type": "code",
   "execution_count": null,
   "id": "887efd04",
   "metadata": {},
   "outputs": [],
   "source": []
  },
  {
   "cell_type": "code",
   "execution_count": null,
   "id": "99bc305f",
   "metadata": {
    "scrolled": false
   },
   "outputs": [],
   "source": []
  },
  {
   "cell_type": "code",
   "execution_count": null,
   "id": "c54e8f81",
   "metadata": {},
   "outputs": [],
   "source": []
  },
  {
   "cell_type": "code",
   "execution_count": null,
   "id": "ba851149",
   "metadata": {},
   "outputs": [],
   "source": []
  },
  {
   "cell_type": "code",
   "execution_count": null,
   "id": "3af9cebf",
   "metadata": {},
   "outputs": [],
   "source": []
  },
  {
   "cell_type": "code",
   "execution_count": null,
   "id": "7d1abd45",
   "metadata": {},
   "outputs": [],
   "source": []
  },
  {
   "cell_type": "code",
   "execution_count": null,
   "id": "8b6034a0",
   "metadata": {},
   "outputs": [],
   "source": []
  }
 ],
 "metadata": {
  "kernelspec": {
   "display_name": "Python 3 (ipykernel)",
   "language": "python",
   "name": "python3"
  },
  "language_info": {
   "codemirror_mode": {
    "name": "ipython",
    "version": 3
   },
   "file_extension": ".py",
   "mimetype": "text/x-python",
   "name": "python",
   "nbconvert_exporter": "python",
   "pygments_lexer": "ipython3",
   "version": "3.11.0"
  }
 },
 "nbformat": 4,
 "nbformat_minor": 5
}
